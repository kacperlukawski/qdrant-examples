{
 "cells": [
  {
   "metadata": {},
   "cell_type": "markdown",
   "source": "# Test notebook",
   "id": "e68e83f39b3c3427"
  },
  {
   "metadata": {
    "ExecuteTime": {
     "end_time": "2024-12-06T20:29:42.044224Z",
     "start_time": "2024-12-06T20:29:42.040224Z"
    }
   },
   "cell_type": "code",
   "source": "print(\"Hello world\")",
   "id": "7787c91ec6c5c2c",
   "outputs": [
    {
     "name": "stdout",
     "output_type": "stream",
     "text": [
      "Hello world\n"
     ]
    }
   ],
   "execution_count": 1
  },
  {
   "metadata": {
    "ExecuteTime": {
     "end_time": "2024-12-06T21:19:51.190390Z",
     "start_time": "2024-12-06T21:19:51.185917Z"
    }
   },
   "cell_type": "code",
   "source": [
    "test = 1.34\n",
    "test"
   ],
   "id": "5af028387b75c744",
   "outputs": [
    {
     "data": {
      "text/plain": [
       "1.34"
      ]
     },
     "execution_count": 2,
     "metadata": {},
     "output_type": "execute_result"
    }
   ],
   "execution_count": 2
  },
  {
   "metadata": {},
   "cell_type": "code",
   "outputs": [],
   "execution_count": null,
   "source": "",
   "id": "855287e802d34e7b"
  }
 ],
 "metadata": {
  "kernelspec": {
   "display_name": "Python 3",
   "language": "python",
   "name": "python3"
  },
  "language_info": {
   "codemirror_mode": {
    "name": "ipython",
    "version": 2
   },
   "file_extension": ".py",
   "mimetype": "text/x-python",
   "name": "python",
   "nbconvert_exporter": "python",
   "pygments_lexer": "ipython2",
   "version": "2.7.6"
  }
 },
 "nbformat": 4,
 "nbformat_minor": 5
}
