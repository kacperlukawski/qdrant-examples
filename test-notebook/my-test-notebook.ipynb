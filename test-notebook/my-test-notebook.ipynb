{
 "cells": [
  {
   "metadata": {},
   "cell_type": "markdown",
   "source": [
    "# Test header\n",
    "\n",
    "This is a test notebook."
   ],
   "id": "ae3fed8540d00f67"
  },
  {
   "metadata": {
    "ExecuteTime": {
     "end_time": "2024-12-10T09:44:53.193140Z",
     "start_time": "2024-12-10T09:44:53.188941Z"
    }
   },
   "cell_type": "code",
   "source": "print(\"Hello, world from a code cell!\")",
   "id": "ad601134587de463",
   "outputs": [
    {
     "name": "stdout",
     "output_type": "stream",
     "text": [
      "Hello, world from a code cell!\n"
     ]
    }
   ],
   "execution_count": 1
  },
  {
   "metadata": {
    "ExecuteTime": {
     "end_time": "2024-12-10T09:52:34.366576Z",
     "start_time": "2024-12-10T09:52:34.363870Z"
    }
   },
   "cell_type": "code",
   "source": [
    "import datetime\n",
    "\n",
    "print(f\"Current time: {datetime.datetime.now()}\")"
   ],
   "id": "b3bd35e582bd0ba5",
   "outputs": [
    {
     "name": "stdout",
     "output_type": "stream",
     "text": [
      "Current time: 2024-12-10 10:52:34.364972\n"
     ]
    }
   ],
   "execution_count": 6
  },
  {
   "metadata": {
    "ExecuteTime": {
     "end_time": "2024-12-10T10:02:18.510324Z",
     "start_time": "2024-12-10T10:02:18.507646Z"
    }
   },
   "cell_type": "code",
   "source": "print(\"This is the end of the notebook.\")",
   "id": "bb584134a1aaa6df",
   "outputs": [
    {
     "name": "stdout",
     "output_type": "stream",
     "text": [
      "This is the end of the notebook.\n"
     ]
    }
   ],
   "execution_count": 7
  },
  {
   "metadata": {
    "ExecuteTime": {
     "end_time": "2024-12-10T10:06:50.983673Z",
     "start_time": "2024-12-10T10:06:50.981267Z"
    }
   },
   "cell_type": "code",
   "source": "print(\"It turns out that this is not the end of the notebook.\")",
   "id": "45eacb7b64d35d27",
   "outputs": [
    {
     "name": "stdout",
     "output_type": "stream",
     "text": [
      "It turns out that this is not the end of the notebook.\n"
     ]
    }
   ],
   "execution_count": 8
  },
  {
   "metadata": {
    "ExecuteTime": {
     "end_time": "2024-12-10T10:10:33.083975Z",
     "start_time": "2024-12-10T10:10:33.080823Z"
    }
   },
   "cell_type": "code",
   "source": "print(\"Here we go again.\")",
   "id": "90407ea046fe15c5",
   "outputs": [
    {
     "name": "stdout",
     "output_type": "stream",
     "text": [
      "Here we go again.\n"
     ]
    }
   ],
   "execution_count": 9
  },
  {
   "metadata": {},
   "cell_type": "code",
   "outputs": [],
   "execution_count": null,
   "source": "",
   "id": "27d276cbc47f4e2"
  }
 ],
 "metadata": {
  "kernelspec": {
   "display_name": "Python 3",
   "language": "python",
   "name": "python3"
  },
  "language_info": {
   "codemirror_mode": {
    "name": "ipython",
    "version": 2
   },
   "file_extension": ".py",
   "mimetype": "text/x-python",
   "name": "python",
   "nbconvert_exporter": "python",
   "pygments_lexer": "ipython2",
   "version": "2.7.6"
  }
 },
 "nbformat": 4,
 "nbformat_minor": 5
}
