{
 "cells": [
  {
   "metadata": {},
   "cell_type": "markdown",
   "source": [
    "# Test header\n",
    "\n",
    "This is a test notebook."
   ],
   "id": "ae3fed8540d00f67"
  },
  {
   "metadata": {
    "ExecuteTime": {
     "end_time": "2024-12-10T09:44:53.193140Z",
     "start_time": "2024-12-10T09:44:53.188941Z"
    }
   },
   "cell_type": "code",
   "source": "print(\"Hello, world from a code cell!\")",
   "id": "ad601134587de463",
   "outputs": [
    {
     "name": "stdout",
     "output_type": "stream",
     "text": [
      "Hello, world from a code cell!\n"
     ]
    }
   ],
   "execution_count": 1
  },
  {
   "metadata": {},
   "cell_type": "code",
   "outputs": [],
   "execution_count": null,
   "source": "",
   "id": "b3bd35e582bd0ba5"
  }
 ],
 "metadata": {
  "kernelspec": {
   "display_name": "Python 3",
   "language": "python",
   "name": "python3"
  },
  "language_info": {
   "codemirror_mode": {
    "name": "ipython",
    "version": 2
   },
   "file_extension": ".py",
   "mimetype": "text/x-python",
   "name": "python",
   "nbconvert_exporter": "python",
   "pygments_lexer": "ipython2",
   "version": "2.7.6"
  }
 },
 "nbformat": 4,
 "nbformat_minor": 5
}
